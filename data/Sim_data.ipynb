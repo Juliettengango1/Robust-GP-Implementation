{
  "nbformat": 4,
  "nbformat_minor": 0,
  "metadata": {
    "colab": {
      "provenance": []
    },
    "kernelspec": {
      "name": "python3",
      "display_name": "Python 3"
    },
    "language_info": {
      "name": "python"
    }
  },
  "cells": [
    {
      "cell_type": "markdown",
      "source": [
        "Cloning the MuyGPs library"
      ],
      "metadata": {
        "id": "Qj8ePYbc1H3x"
      }
    },
    {
      "cell_type": "code",
      "execution_count": null,
      "metadata": {
        "id": "6U6noA4pwNyz"
      },
      "outputs": [],
      "source": [
        "!pip install git+https://github.com/LLNL/MuyGPyS@develop"
      ]
    },
    {
      "cell_type": "markdown",
      "source": [
        "Importing some of the MuyGPs commands"
      ],
      "metadata": {
        "id": "3E9EtHD51yZs"
      }
    },
    {
      "cell_type": "code",
      "source": [
        "import numpy as np\n",
        "\n",
        "from MuyGPyS._test.sampler import UnivariateSampler2D, print_results\n",
        "from MuyGPyS.gp import MuyGPS\n",
        "from MuyGPyS.gp.deformation import Isotropy, l2\n",
        "from MuyGPyS.gp.hyperparameter import AnalyticScale, Parameter\n",
        "from MuyGPyS.gp.kernels import Matern\n",
        "from MuyGPyS.gp.noise import HomoscedasticNoise\n",
        "from MuyGPyS.gp.tensors import make_predict_tensors, make_train_tensors\n",
        "from MuyGPyS.neighbors import NN_Wrapper\n",
        "from MuyGPyS.optimize import Bayes_optimize\n",
        "from MuyGPyS.optimize.batch import sample_batch\n",
        "from MuyGPyS.optimize.loss import lool_fn, looph_fn"
      ],
      "metadata": {
        "id": "_qonHu961R1V"
      },
      "execution_count": null,
      "outputs": []
    },
    {
      "cell_type": "code",
      "source": [
        "#Running the functions to be applied\n",
        "%run test_looph.py\n",
        "%run test_looph_mean.py\n",
        "%run lool_hybrid.py\n",
        "%run looph_hybrid.py\n",
        "%run DownS_lool.py\n",
        "%run DownS_looph.py"
      ],
      "metadata": {
        "id": "zh47foiW1Vss"
      },
      "execution_count": null,
      "outputs": []
    },
    {
      "cell_type": "markdown",
      "source": [
        "Sampling a 2D surface from a conventional Gaussian Process"
      ],
      "metadata": {
        "id": "kh5WWxpn2GSH"
      }
    },
    {
      "cell_type": "code",
      "source": [
        "sampler = UnivariateSampler2D(\n",
        "    points_per_dim=100,\n",
        "    train_ratio=0.90,\n",
        "    kernel=Matern(\n",
        "        smoothness=Parameter(1.0),\n",
        "        deformation=Isotropy(\n",
        "            l2,\n",
        "            length_scale=Parameter(1.0)\n",
        "        ),\n",
        "    ),\n",
        "    noise=HomoscedasticNoise(1e-14),\n",
        "    measurement_noise=HomoscedasticNoise(1e-7),\n",
        ")"
      ],
      "metadata": {
        "id": "14Z_RkDv2NzU"
      },
      "execution_count": null,
      "outputs": []
    },
    {
      "cell_type": "markdown",
      "source": [
        "Train/test data split"
      ],
      "metadata": {
        "id": "XpsjB6bJ2kE5"
      }
    },
    {
      "cell_type": "code",
      "source": [
        "train_features, test_features= sampler.features()\n",
        "train_responses, test_responses = sampler.sample()"
      ],
      "metadata": {
        "id": "SZdJd4Ag2emq"
      },
      "execution_count": null,
      "outputs": []
    },
    {
      "cell_type": "markdown",
      "source": [
        "Injecting outliers in the train target using 10% portion of the observations"
      ],
      "metadata": {
        "id": "byBZbImM2rYq"
      }
    },
    {
      "cell_type": "code",
      "source": [
        "#np.random.seed(55)\n",
        "idx = np.random.choice(np.arange(train_features.shape[0]), size=int(0.10 * train_features.shape[0]), replace=False)\n",
        "\n",
        "multi = np.array([2, 3, 5])\n",
        "yout_train = train_responses.copy()\n",
        "yout_train[idx] = train_responses[idx] * multi[2]"
      ],
      "metadata": {
        "id": "BEmp-Gsp2sWD"
      },
      "execution_count": null,
      "outputs": []
    },
    {
      "cell_type": "code",
      "source": [],
      "metadata": {
        "id": "Sa_kQ7VP2wrw"
      },
      "execution_count": null,
      "outputs": []
    }
  ]
}
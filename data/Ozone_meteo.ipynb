{
  "nbformat": 4,
  "nbformat_minor": 0,
  "metadata": {
    "colab": {
      "provenance": []
    },
    "kernelspec": {
      "name": "python3",
      "display_name": "Python 3"
    },
    "language_info": {
      "name": "python"
    }
  },
  "cells": [
    {
      "cell_type": "markdown",
      "source": [
        "Importing libraries used to load the data"
      ],
      "metadata": {
        "id": "Z1uvmwrv7n7m"
      }
    },
    {
      "cell_type": "code",
      "execution_count": null,
      "metadata": {
        "id": "XY-II14p7ggy"
      },
      "outputs": [],
      "source": [
        "import pandas as pd\n",
        "import matplotlib.pyplot as plt\n",
        "import seaborn as sns\n",
        "import geopandas as gpd\n",
        "import numpy as np"
      ]
    },
    {
      "cell_type": "markdown",
      "source": [
        "Loading the Meteo and Ozone datasets"
      ],
      "metadata": {
        "id": "HaeHcoyo7yeQ"
      }
    },
    {
      "cell_type": "code",
      "source": [
        "# Loading the ozone concentration data\n",
        "ozone_data = pd.read_csv('1988_Ozone.csv')\n",
        "\n",
        "# Loading the wind speed and temperature data\n",
        "weather_data = pd.read_csv('meteo_data.csv')"
      ],
      "metadata": {
        "id": "Opulo8xF7uxH"
      },
      "execution_count": null,
      "outputs": []
    },
    {
      "cell_type": "markdown",
      "source": [
        "Data Processing steps\n"
      ],
      "metadata": {
        "id": "_nuhAPRX8ZAQ"
      }
    },
    {
      "cell_type": "code",
      "source": [
        "# Converting the 'Date' column to datetime format\n",
        "ozone_data['Date'] = pd.to_datetime(ozone_data['Date'])\n",
        "# Filtering ozone data for summer months (June, July, August)\n",
        "summer_ozone_data = ozone_data[(ozone_data['Date'].dt.month >= 6) & (ozone_data['Date'].dt.month <= 8)]\n",
        "\n",
        "# Converting the 'Date' column to datetime format\n",
        "weather_data['DATE'] = pd.to_datetime(weather_data['DATE'])\n",
        "# Filtering weather data for summer months (June, July, August)\n",
        "summer_weather_data = weather_data[(weather_data['DATE'].dt.month >= 6) & (weather_data['DATE'].dt.month <= 8)]"
      ],
      "metadata": {
        "id": "auAIBdlh73pn"
      },
      "execution_count": null,
      "outputs": []
    },
    {
      "cell_type": "code",
      "source": [
        "from sklearn.model_selection import train_test_split\n",
        "\n",
        "# Merging the two datasets based on the 'Date' column\n",
        "combined_data = pd.merge(summer_ozone_data, summer_weather_data, left_on='Date',\n",
        "                         right_on='DATE', how='inner')\n",
        "\n",
        "#Removing NaN values\n",
        "combined_data.dropna(inplace=True)\n",
        "\n",
        "# Calculate the min and max values for temperature and windspeed\n",
        "min_temp = combined_data['TEMP'].min()\n",
        "max_temp = combined_data['TEMP'].max()\n",
        "min_windspeed = combined_data['WDSP'].min()\n",
        "max_windspeed = combined_data['WDSP'].max()\n",
        "\n",
        "# Apply min-max scaling to temperature and windspeed columns\n",
        "combined_data['TEMP_normalized'] = (combined_data['TEMP'] - min_temp) / (max_temp - min_temp)\n",
        "combined_data['WDSP_normalized'] = (combined_data['WDSP'] - min_windspeed) / (max_windspeed - min_windspeed)\n",
        "\n",
        "# Features extraction (wind speed and temperature)\n",
        "X = combined_data[['WDSP_normalized', 'TEMP_normalized']]\n",
        "\n",
        "# Target (ozone concentration)\n",
        "y = combined_data['Daily Max 8-hour Ozone Concentration']"
      ],
      "metadata": {
        "id": "tRgDmOAk8iq7"
      },
      "execution_count": null,
      "outputs": []
    },
    {
      "cell_type": "code",
      "source": [
        "# Splitting the data into training and testing sets\n",
        "train_x, test_x, train_y, test_y= train_test_split(\n",
        "    X, y, test_size=0.1, random_state=42)"
      ],
      "metadata": {
        "id": "xfljULLC8uYw"
      },
      "execution_count": null,
      "outputs": []
    },
    {
      "cell_type": "code",
      "source": [
        "train_y = train_y.to_frame()\n",
        "test_y= test_y.to_frame()"
      ],
      "metadata": {
        "id": "J0Z4fizN8vHi"
      },
      "execution_count": null,
      "outputs": []
    },
    {
      "cell_type": "markdown",
      "source": [
        "Injecting 10% Outliers in the training set"
      ],
      "metadata": {
        "id": "6nLr2sny87Ph"
      }
    },
    {
      "cell_type": "code",
      "source": [
        "# Define the proportion of outliers\n",
        "outlier_proportion = 0.10\n",
        "\n",
        "# Calculate the number of outliers to inject\n",
        "num_outliers = int(len(train_y) * outlier_proportion)\n",
        "\n",
        "# Generate extreme outlier values\n",
        "extreme_outliers_float = np.random.uniform(low=2, high=6, size=num_outliers)\n",
        "\n",
        "# Create outlier indices\n",
        "random_indices = np.random.choice(len(train_y), size=num_outliers, replace=False)\n",
        "\n",
        "# Outlier generation in the train response variable\n",
        "train_y_outliers = np.copy(train_y)\n",
        "extreme_outliers_float = extreme_outliers_float.reshape(-1, 1)\n",
        "train_y_outliers[random_indices] = extreme_outliers_float"
      ],
      "metadata": {
        "id": "Z63266zd8ysU"
      },
      "execution_count": null,
      "outputs": []
    }
  ]
}